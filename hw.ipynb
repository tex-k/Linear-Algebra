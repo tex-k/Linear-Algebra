{
 "cells": [
  {
   "cell_type": "markdown",
   "id": "91852842",
   "metadata": {},
   "source": [
    "### Напишите на Python функцию для перемножения двух произвольных матриц, не используя NumPy."
   ]
  },
  {
   "cell_type": "code",
   "execution_count": 12,
   "id": "ff61e0a3",
   "metadata": {},
   "outputs": [],
   "source": [
    "def f(matrix_1, matrix_2):    \n",
    "    if len(matrix_1[0]) != len(matrix_2):\n",
    "        return \"Wrong dimensions\"\n",
    "    \n",
    "    result = []\n",
    "    \n",
    "    for i in range(len(matrix_1)):\n",
    "        line = []\n",
    "        \n",
    "        for j in range(len(matrix_2[0])):   \n",
    "            elem = 0\n",
    "            \n",
    "            for k in range(len(matrix_1[0])):\n",
    "                elem += matrix_1[i][k] * matrix_2[k][j]\n",
    "            line.append(elem)\n",
    "        result.append(line)\n",
    "    return result"
   ]
  },
  {
   "cell_type": "code",
   "execution_count": 15,
   "id": "71b30407",
   "metadata": {},
   "outputs": [
    {
     "data": {
      "text/plain": [
       "[[17, 18, 11], [18, 29, 4], [11, 4, 13]]"
      ]
     },
     "execution_count": 15,
     "metadata": {},
     "output_type": "execute_result"
    }
   ],
   "source": [
    "matrix_1 = [[4, 1], [5, -2], [2, 3]]\n",
    "matrix_2 = [[4, 5, 2], [1, -2, 3]]\n",
    "\n",
    "f(matrix_1, matrix_2)"
   ]
  },
  {
   "cell_type": "code",
   "execution_count": null,
   "id": "39cdcbe8",
   "metadata": {},
   "outputs": [],
   "source": []
  }
 ],
 "metadata": {
  "kernelspec": {
   "display_name": "Python 3 (ipykernel)",
   "language": "python",
   "name": "python3"
  },
  "language_info": {
   "codemirror_mode": {
    "name": "ipython",
    "version": 3
   },
   "file_extension": ".py",
   "mimetype": "text/x-python",
   "name": "python",
   "nbconvert_exporter": "python",
   "pygments_lexer": "ipython3",
   "version": "3.9.7"
  }
 },
 "nbformat": 4,
 "nbformat_minor": 5
}
