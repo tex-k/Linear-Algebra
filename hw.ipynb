{
 "cells": [
  {
   "cell_type": "code",
   "execution_count": 1,
   "id": "448b5b40",
   "metadata": {},
   "outputs": [],
   "source": [
    "import numpy as np"
   ]
  },
  {
   "cell_type": "markdown",
   "id": "e44e6e61",
   "metadata": {},
   "source": [
    "### 1"
   ]
  },
  {
   "cell_type": "code",
   "execution_count": 29,
   "id": "7fa544a9",
   "metadata": {},
   "outputs": [],
   "source": [
    "A = np.array([[1, 2, 0], [0, 0, 5], [3, -4, 2], [1, 6, 5], [0, 1, 0]])\n",
    "\n",
    "U, s, V = np.linalg.svd(A)\n",
    "\n",
    "S = np.vstack((np.diag(s), np.zeros((2, 3))))"
   ]
  },
  {
   "cell_type": "code",
   "execution_count": 30,
   "id": "85977d7c",
   "metadata": {},
   "outputs": [
    {
     "data": {
      "text/plain": [
       "array([[ 1.00000000e+00,  2.00000000e+00,  5.69432293e-16],\n",
       "       [ 1.03164637e-15, -2.16649373e-15,  5.00000000e+00],\n",
       "       [ 3.00000000e+00, -4.00000000e+00,  2.00000000e+00],\n",
       "       [ 1.00000000e+00,  6.00000000e+00,  5.00000000e+00],\n",
       "       [-1.05854814e-16,  1.00000000e+00,  5.52894695e-17]])"
      ]
     },
     "execution_count": 30,
     "metadata": {},
     "output_type": "execute_result"
    }
   ],
   "source": [
    "U.dot(S).dot(V)"
   ]
  },
  {
   "cell_type": "markdown",
   "id": "452cc9c9",
   "metadata": {},
   "source": [
    "### 2"
   ]
  },
  {
   "cell_type": "markdown",
   "id": "2c855037",
   "metadata": {},
   "source": [
    "#### a)"
   ]
  },
  {
   "cell_type": "code",
   "execution_count": 32,
   "id": "2f3e9d19",
   "metadata": {},
   "outputs": [
    {
     "data": {
      "text/plain": [
       "8.824868854820442"
      ]
     },
     "execution_count": 32,
     "metadata": {},
     "output_type": "execute_result"
    }
   ],
   "source": [
    "s[0]"
   ]
  },
  {
   "cell_type": "markdown",
   "id": "68137add",
   "metadata": {},
   "source": [
    "#### б)"
   ]
  },
  {
   "cell_type": "code",
   "execution_count": 34,
   "id": "16c0539b",
   "metadata": {},
   "outputs": [
    {
     "data": {
      "text/plain": [
       "11.045361017187261"
      ]
     },
     "execution_count": 34,
     "metadata": {},
     "output_type": "execute_result"
    }
   ],
   "source": [
    "np.sqrt(np.sum(s**2))"
   ]
  },
  {
   "cell_type": "code",
   "execution_count": null,
   "id": "672dbb2b",
   "metadata": {},
   "outputs": [],
   "source": []
  }
 ],
 "metadata": {
  "kernelspec": {
   "display_name": "Python 3 (ipykernel)",
   "language": "python",
   "name": "python3"
  },
  "language_info": {
   "codemirror_mode": {
    "name": "ipython",
    "version": 3
   },
   "file_extension": ".py",
   "mimetype": "text/x-python",
   "name": "python",
   "nbconvert_exporter": "python",
   "pygments_lexer": "ipython3",
   "version": "3.9.7"
  }
 },
 "nbformat": 4,
 "nbformat_minor": 5
}
